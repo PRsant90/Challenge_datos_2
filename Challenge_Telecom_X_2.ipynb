{
  "nbformat": 4,
  "nbformat_minor": 0,
  "metadata": {
    "colab": {
      "provenance": [],
      "mount_file_id": "10ptwDoYWCTaX3PL_uBlhBYO0mjdl2U5Q",
      "authorship_tag": "ABX9TyO8ptpY54QXdCDcNvLWCJdI",
      "include_colab_link": true
    },
    "kernelspec": {
      "name": "python3",
      "display_name": "Python 3"
    },
    "language_info": {
      "name": "python"
    }
  },
  "cells": [
    {
      "cell_type": "markdown",
      "metadata": {
        "id": "view-in-github",
        "colab_type": "text"
      },
      "source": [
        "<a href=\"https://colab.research.google.com/github/PRsant90/Challenge_datos_2/blob/main/Challenge_Telecom_X_2.ipynb\" target=\"_parent\"><img src=\"https://colab.research.google.com/assets/colab-badge.svg\" alt=\"Open In Colab\"/></a>"
      ]
    },
    {
      "cell_type": "code",
      "source": [],
      "metadata": {
        "id": "eqQUHk7wacu0"
      },
      "execution_count": null,
      "outputs": []
    }
  ]
}